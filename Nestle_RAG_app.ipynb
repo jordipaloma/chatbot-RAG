{
 "cells": [
  {
   "cell_type": "markdown",
   "metadata": {},
   "source": [
    "# Nestlé HR Chatbot Assistant"
   ]
  },
  {
   "cell_type": "code",
   "execution_count": 1,
   "metadata": {},
   "outputs": [],
   "source": [
    "# !pip install dotenv langchain langchain-community langchain-huggingface gradio chromadb pypdf sentence-transformers"
   ]
  },
  {
   "cell_type": "code",
   "execution_count": 2,
   "metadata": {},
   "outputs": [],
   "source": [
    "# Import essential tools and libraries\n",
    "import os\n",
    "import sys\n",
    "\n",
    "import gradio as gr\n",
    "\n",
    "from langchain.chains import RetrievalQA\n",
    "from langchain.llms import HuggingFaceHub\n",
    "from langchain.prompts import PromptTemplate\n",
    "from langchain_community.document_loaders import PyPDFDirectoryLoader\n",
    "from langchain.text_splitter import RecursiveCharacterTextSplitter\n",
    "from langchain_huggingface import HuggingFaceEmbeddings, HuggingFaceEndpoint\n",
    "from langchain.vectorstores import Chroma\n",
    "from langchain_core.runnables import RunnablePassthrough\n",
    "from langchain_core.output_parsers import StrOutputParser\n",
    "from dotenv import load_dotenv\n",
    "\n",
    "# Create a '.env' file in the root folder of the project with this info:\n",
    "# HUGGINGFACEHUB_API_TOKEN=\"my-huggingface-token\"\n",
    "\n",
    "# Load .env file\n",
    "load_dotenv()\n",
    "\n",
    "#  Set up the LangChain API environment\n",
    "HUGGINGFACEHUB_API_TOKEN = os.getenv(\"HUGGINGFACEHUB_API_TOKEN\")\n",
    "\n",
    "# Verify environment variables\n",
    "# print(f'HuggingFace Access Token: {HUGGINGFACEHUB_API_TOKEN}')"
   ]
  },
  {
   "cell_type": "code",
   "execution_count": 3,
   "metadata": {},
   "outputs": [],
   "source": [
    "# Load the HR policy PDFs from a directory and preprocess them\n",
    "PDF_DIR = \"./pdf_docs/\"\n",
    "loader = PyPDFDirectoryLoader(PDF_DIR)\n",
    "documents = loader.load()\n",
    "# documents"
   ]
  },
  {
   "cell_type": "code",
   "execution_count": 4,
   "metadata": {},
   "outputs": [
    {
     "name": "stdout",
     "output_type": "stream",
     "text": [
      "Number of chunks: 12\n"
     ]
    }
   ],
   "source": [
    "# Split text into manageable chunks\n",
    "text_splitter = RecursiveCharacterTextSplitter(chunk_size=2024, chunk_overlap=48)\n",
    "texts = text_splitter.split_documents(documents)\n",
    "print(f'Number of chunks: {len(texts)}')"
   ]
  },
  {
   "cell_type": "code",
   "execution_count": 5,
   "metadata": {},
   "outputs": [],
   "source": [
    "# Create vector representations for text chunks\n",
    "MODEL_NAME = \"sentence-transformers/all-MiniLM-L6-v2\"\n",
    "embedding_model = HuggingFaceEmbeddings(model_name=MODEL_NAME)\n",
    "vector_db = Chroma.from_documents(documents=texts, embedding=embedding_model)\n",
    "retriever = vector_db.as_retriever()"
   ]
  },
  {
   "cell_type": "code",
   "execution_count": 6,
   "metadata": {},
   "outputs": [
    {
     "name": "stderr",
     "output_type": "stream",
     "text": [
      "C:\\Users\\Jordi\\AppData\\Local\\Temp\\ipykernel_13024\\2426988349.py:2: LangChainDeprecationWarning: The class `HuggingFaceHub` was deprecated in LangChain 0.0.21 and will be removed in 1.0. An updated version of the class exists in the langchain-huggingface package and should be used instead. To use it run `pip install -U langchain-huggingface` and import as `from langchain_huggingface import HuggingFaceEndpoint`.\n",
      "  llm = HuggingFaceHub(\n"
     ]
    }
   ],
   "source": [
    "# Build a question-answering system\n",
    "llm = HuggingFaceHub(\n",
    "    repo_id='google/flan-t5-base',\n",
    ")"
   ]
  },
  {
   "cell_type": "code",
   "execution_count": 7,
   "metadata": {},
   "outputs": [],
   "source": [
    "\n",
    "# Create a prompt template for the chatbot\n",
    "prompt_template = PromptTemplate(\n",
    "    input_variables=[\"context\", \"question\"],\n",
    "    template=\"\"\"You are a helpful assistant. Answer the following question in detail based on the HR policy documents. \n",
    "    Please follow the following rules:\n",
    "    1. If you don't know the answer, don't try to make up an answer. Just say **I can't find the answer to your question based on the HR documents**.\n",
    "    2. If you find the answer, write the answer in a concise way and add the name of the document and the page that are **directly** used to derive the answer. Exclude the sources that are irrelevant to the final answer.\n",
    "    {question}\\n\\nContext:\\n{context}\n",
    "\"\"\"\n",
    ")\n",
    "\n",
    "# Create the chain using the provided pattern\n",
    "retrieval_chain = (\n",
    "    {\n",
    "        \"context\": retriever,                   # The retriever fetches documents and passes them through\n",
    "        \"question\": RunnablePassthrough(),      # The question will be passed through unchanged\n",
    "    }\n",
    "    | prompt_template                           # Apply the prompt template\n",
    "    | llm                                       # Run the prompt through the language model\n",
    "    | StrOutputParser()                         # Parse the output as a string\n",
    ")"
   ]
  },
  {
   "cell_type": "code",
   "execution_count": 8,
   "metadata": {},
   "outputs": [],
   "source": [
    "# Response without Gradio for testing\n",
    "# response = retrieval_chain.invoke(\"How do I promote in the company?\")\n",
    "# print(response.capitalize())"
   ]
  },
  {
   "cell_type": "code",
   "execution_count": 9,
   "metadata": {},
   "outputs": [
    {
     "name": "stdout",
     "output_type": "stream",
     "text": [
      "Running on local URL:  http://127.0.0.1:7860\n",
      "Running on public URL: https://c440b6eaab030d16d7.gradio.live\n",
      "\n",
      "This share link expires in 72 hours. For free permanent hosting and GPU upgrades, run `gradio deploy` from Terminal to deploy to Spaces (https://huggingface.co/spaces)\n"
     ]
    },
    {
     "data": {
      "text/html": [
       "<div><iframe src=\"https://c440b6eaab030d16d7.gradio.live\" width=\"100%\" height=\"500\" allow=\"autoplay; camera; microphone; clipboard-read; clipboard-write;\" frameborder=\"0\" allowfullscreen></iframe></div>"
      ],
      "text/plain": [
       "<IPython.core.display.HTML object>"
      ]
     },
     "metadata": {},
     "output_type": "display_data"
    }
   ],
   "source": [
    "# Build a Gradio interface for the chatbot\n",
    "def chatbot(query):\n",
    "    response = retrieval_chain.invoke(query)\n",
    "    return response.capitalize()\n",
    "\n",
    "iface = gr.Interface(\n",
    "    fn=chatbot,\n",
    "    inputs=gr.Textbox(lines=2, placeholder=\"Enter your question about the HR policy here...\"),\n",
    "    outputs=\"text\",\n",
    "    title=\"Nestlé HR Assistant\",\n",
    "    description=\"Ask any question related to the HR policies located in the / pdf_docs folder.\"\n",
    ")\n",
    "\n",
    "# Launch the interface\n",
    "if __name__ == \"__main__\":\n",
    "    iface.launch(share=True)"
   ]
  },
  {
   "cell_type": "code",
   "execution_count": null,
   "metadata": {},
   "outputs": [],
   "source": []
  }
 ],
 "metadata": {
  "kernelspec": {
   "display_name": ".venv",
   "language": "python",
   "name": "python3"
  },
  "language_info": {
   "codemirror_mode": {
    "name": "ipython",
    "version": 3
   },
   "file_extension": ".py",
   "mimetype": "text/x-python",
   "name": "python",
   "nbconvert_exporter": "python",
   "pygments_lexer": "ipython3",
   "version": "3.9.10"
  }
 },
 "nbformat": 4,
 "nbformat_minor": 2
}
